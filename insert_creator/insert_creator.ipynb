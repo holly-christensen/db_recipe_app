{
 "cells": [
  {
   "cell_type": "code",
   "execution_count": 59,
   "metadata": {},
   "outputs": [],
   "source": [
    "import pandas as pd\n",
    "import csv\n",
    "import random"
   ]
  },
  {
   "cell_type": "code",
   "execution_count": 60,
   "metadata": {},
   "outputs": [],
   "source": [
    "def make_quote(l, idx):\n",
    "    return '\"' + l[idx] + '\"'\n",
    "\n",
    "def make_write_str(l, join_str=',\\n', double_new_line=True):\n",
    "    ret = '\\n(' + join_str.join(l) + ')'\n",
    "    if double_new_line:\n",
    "        return ret + '\\n'\n",
    "    return ret\n",
    "\n",
    "def make_real_list(l):\n",
    "    l = l[1:-1] # removes the '[' and ']'\n",
    "    return l.split(', ')"
   ]
  },
  {
   "cell_type": "code",
   "execution_count": 61,
   "metadata": {},
   "outputs": [],
   "source": [
    "random.seed(3500)\n",
    "with open('food_network_recipes_1.csv', 'r') as read_file:\n",
    "    reader = csv.reader(read_file)\n",
    "    with open('recipe_inserts.sql', 'a+') as write_file:\n",
    "        write_file.write('INSERT INTO Recipe (recipe_id, title, minutes, servings, instructions, user_id)')\n",
    "        header = next(reader)\n",
    "        for line in reader:\n",
    "            line[1] = make_quote(line, 1)\n",
    "            line[5] = make_quote(line, 5)\n",
    "            line.pop(2)\n",
    "            line.append(str(random.randint(0,4)))\n",
    "            write_str = make_write_str(line)\n",
    "            write_file.write(write_str)\n",
    "            \n",
    "        write_file.write(';')\n",
    "            "
   ]
  },
  {
   "cell_type": "code",
   "execution_count": 62,
   "metadata": {},
   "outputs": [],
   "source": [
    "with open('food_network_ingredients_1.csv', 'r') as read_file2, \\\n",
    "     open('ingredient_inserts.sql', 'a+') as ing_file, \\\n",
    "     open('ri_inserts.sql', 'a+') as ri_file:\n",
    "    reader = csv.reader(read_file2)\n",
    "    ing_file.write('INSERT INTO Ingredient (ingredient_name)')\n",
    "    ri_file.write('INSERT INTO Recipe_ingredient (ingredient_id, recipe_id, amount, unit, optional)')\n",
    "    next(reader)\n",
    "    \n",
    "    ing_id_counter = 0\n",
    "    ing_dict = {}\n",
    "    \n",
    "    for line in reader:\n",
    "        recipe_id = line[0]\n",
    "        ing_list = make_real_list(line[1])\n",
    "        amount_list = make_real_list(line[2])\n",
    "        unit_list = make_real_list(line[3])\n",
    "        option_list = make_real_list(line[4])\n",
    "        \n",
    "        for i in range(len(ing_list)):\n",
    "            if ing_list[i] not in ing_dict:\n",
    "                ing_file.write('\\n(' + ing_list[i] + ')')\n",
    "                ing_dict[ing_list[i]] = ing_id_counter\n",
    "                ing_id = str(ing_id_counter)\n",
    "                ing_id_counter += 1\n",
    "            else:\n",
    "                ing_id = str(ing_dict[ing_list[i]])\n",
    "            write_str = make_write_str([ing_id, recipe_id, amount_list[i], unit_list[i], option_list[i]], join_str=', ', double_new_line=False)\n",
    "            ri_file.write(write_str)\n",
    "            \n",
    "    ri_file.write(';')\n",
    "    ing_file.write(';')\n",
    "        \n",
    "    \n",
    "    "
   ]
  },
  {
   "cell_type": "code",
   "execution_count": null,
   "metadata": {},
   "outputs": [],
   "source": []
  }
 ],
 "metadata": {
  "kernelspec": {
   "display_name": "Python 3",
   "language": "python",
   "name": "python3"
  },
  "language_info": {
   "codemirror_mode": {
    "name": "ipython",
    "version": 3
   },
   "file_extension": ".py",
   "mimetype": "text/x-python",
   "name": "python",
   "nbconvert_exporter": "python",
   "pygments_lexer": "ipython3",
   "version": "3.8.3"
  }
 },
 "nbformat": 4,
 "nbformat_minor": 4
}
